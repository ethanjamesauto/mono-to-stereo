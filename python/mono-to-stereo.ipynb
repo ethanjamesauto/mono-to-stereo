{
 "cells": [
  {
   "cell_type": "code",
   "execution_count": null,
   "metadata": {},
   "outputs": [],
   "source": [
    "import numpy as np\n",
    "from numpy import pi, exp, log10\n",
    "from numpy.fft import fft, fftshift, fftfreq, ifft\n",
    "from bokeh.plotting import figure, show, output_notebook\n",
    "import bokeh.palettes as pl\n",
    "import panel as pn\n",
    "pn.extension()\n",
    "from glob import glob\n",
    "from tqdm import tqdm \n",
    "import os\n",
    "\n",
    "import utils\n",
    "\n",
    "import matplotlib.pyplot as plt\n",
    "import scipy"
   ]
  },
  {
   "cell_type": "code",
   "execution_count": null,
   "metadata": {},
   "outputs": [],
   "source": [
    "fs, x1 = scipy.io.wavfile.read('freebird.wav')\n",
    "x1 = np.array(x1, dtype=np.float32)\n",
    "fs, x1.shape\n",
    "\n",
    "FS = 44100\n",
    "stft = utils.get_stft(fs=FS)\n",
    "\n",
    "# cut down waveform size to two minutes centered around the start of the freebird solo\n",
    "start = 5*60 + 41 #+ 30\n",
    "end = 7*60 + 41 #- 30\n",
    "x = x1[start*fs:end*fs]\n",
    "\n",
    "l = x[:, 0]\n",
    "r = x[:, 1]\n",
    "scipy.io.wavfile.write('freebird_cut.wav', fs, np.array([l, r]).T.astype(np.int16))\n",
    "\n",
    "\n",
    "s = (l + r) / 2 # mono signal\n",
    "N = len(l)\n",
    "\n",
    "P_IID, P_IC = utils.encode(stft, l, r)\n",
    "y_mixed = utils.decode(stft, s, P_IID, P_IC)\n",
    "l1 = y_mixed.T[:, 0]\n",
    "r1 = y_mixed.T[:, 1]\n",
    "scipy.io.wavfile.write('freebird_decoded.wav', fs, y_mixed.T.astype(np.int16))"
   ]
  },
  {
   "cell_type": "code",
   "execution_count": null,
   "metadata": {},
   "outputs": [],
   "source": [
    "import ffmpeg\n",
    "\n",
    "files = glob('./data/**/**.mp3')\n",
    "\n",
    "# convert all to wav\n",
    "for f in tqdm(files):\n",
    "    out = f.replace('.mp3', '.wav')\n",
    "    ffmpeg.input(f).output(out).run(overwrite_output=True, quiet=True)"
   ]
  },
  {
   "cell_type": "code",
   "execution_count": null,
   "metadata": {},
   "outputs": [],
   "source": [
    "files = glob('./data/**/**.wav')\n",
    "\n",
    "# mark any file that won't load as .wav.bad\n",
    "for f in tqdm(files):\n",
    "    try:\n",
    "        fs, l, r = utils.load_wav(f)\n",
    "    except:\n",
    "        # print(f)\n",
    "        os.rename(f, f + '.bad')\n",
    "\n",
    "# reverse the above\n",
    "# for f in glob('./data/**/**.wav.bad'):\n",
    "#    os.rename(f, f.replace('.bad', ''))"
   ]
  },
  {
   "cell_type": "code",
   "execution_count": null,
   "metadata": {},
   "outputs": [],
   "source": [
    "files = glob('./data/**/**.wav')\n",
    "\n",
    "FS = 44100\n",
    "stft = utils.get_stft(fs=FS)\n",
    "\n",
    "# generate PS coding, then save as npz\n",
    "for f in tqdm(files):\n",
    "    fs, l, r = utils.load_wav(f)\n",
    "    N = len(l)\n",
    "    P_IID, P_IC = utils.encode(stft, l, r)\n",
    "    out = f + '_ps.npz'\n",
    "    np.savez_compressed(out, P_IID=P_IID, P_IC=P_IC)"
   ]
  },
  {
   "cell_type": "code",
   "execution_count": null,
   "metadata": {},
   "outputs": [],
   "source": [
    "import os\n",
    "from glob import glob\n",
    "# delete all files with _hat.wav\n",
    "for f in glob('data/**/**_hat.wav'):\n",
    "    os.remove(f)\n",
    "\n",
    "FS = 44100\n",
    "stft = utils.get_stft(fs=FS)"
   ]
  },
  {
   "cell_type": "code",
   "execution_count": null,
   "metadata": {},
   "outputs": [],
   "source": [
    "n_train = 20\n",
    "n_test = 3\n",
    "n_frames = 20\n",
    "\n",
    "train = glob('data/**/**.wav')[:n_train]\n",
    "test = glob('data/**/**.wav')[n_train:n_train+n_test]\n",
    "len(train), len(test)"
   ]
  },
  {
   "cell_type": "code",
   "execution_count": null,
   "metadata": {},
   "outputs": [],
   "source": [
    "# train the model\n",
    "\n",
    "n_samples = 200\n",
    "features = []\n",
    "labels = []\n",
    "\n",
    "from sklearn.neighbors import KNeighborsRegressor\n",
    "knn = KNeighborsRegressor(n_neighbors=1)\n",
    "\n",
    "for f in tqdm(train):\n",
    "    if f.find('_hat.wav') > 0: # TODO: really need a more reliable way of doing this\n",
    "        continue\n",
    "   \n",
    "    s, BS, P_IID, P_IC, P, m = utils.file_to_feature_label(f, stft)\n",
    "\n",
    "    for i in range(n_samples):\n",
    "        # take a random set of frames from the spectrogram S\n",
    "        idx = np.random.randint(0, BS.shape[1] - n_frames)\n",
    "\n",
    "        feature = BS[:, idx:idx+n_frames]\n",
    "        feature = utils.complex_to_real(feature).flatten()\n",
    "        features.append(feature)\n",
    "        \n",
    "        # the label is the PS parameters of the last frame\n",
    "        label = P[:, idx+n_frames]\n",
    "        label = utils.complex_to_real(label)\n",
    "        labels.append(label)\n",
    "\n",
    "knn = KNeighborsRegressor(n_neighbors=1).fit(features, labels)\n",
    "knn"
   ]
  },
  {
   "cell_type": "code",
   "execution_count": null,
   "metadata": {},
   "outputs": [],
   "source": [
    "# test the model\n",
    "for f in test:\n",
    "    print(f)\n",
    "    s, BS, P_IID, P_IC, P, m = utils.file_to_feature_label(f, stft)\n",
    "    P_hat = np.zeros_like(P)\n",
    "\n",
    "    features = []\n",
    "    for i in range(BS.shape[1] - n_frames):\n",
    "        feature = BS[:, i:i+n_frames]\n",
    "        feature = utils.complex_to_real(feature).flatten()\n",
    "        features.append(feature)\n",
    "    \n",
    "    labels = knn.predict(features)\n",
    "    for i in range(len(labels)):\n",
    "        P_hat[:, i+n_frames] = utils.real_to_complex(labels[i])\n",
    "    \n",
    "    P_IID_hat, P_IC_hat = utils.parameters_split(P_hat)\n",
    "    l_hat, r_hat = utils.decode(stft=stft, s=s, P_IID=P_IID_hat, P_IC=P_IC_hat)\n",
    "    scipy.io.wavfile.write(f.replace('.wav', '_hat.wav'), FS, np.array([l_hat*m, r_hat*m]).astype(np.int16).T)\n",
    "\n",
    "    # print mse\n",
    "    # P_IID /= np.linalg.norm(P_IID)\n",
    "    # P_IC /= np.linalg.norm(P_IC)\n",
    "    # P_IID_hat /= np.linalg.norm(P_IID_hat)\n",
    "    # P_IC_hat /= np.linalg.norm(P_IC_hat)\n",
    "\n",
    "    mse_IID = np.mean(np.abs(P_IID - P_IID_hat)**2)\n",
    "    mse_IC = np.mean(np.abs(P_IC - P_IC_hat)**2)\n",
    "    print(f'mse_IID={mse_IID:.2f}, mse_IC={mse_IC:.2f}', mse_IID/mse_IC)"
   ]
  },
  {
   "cell_type": "code",
   "execution_count": null,
   "metadata": {},
   "outputs": [],
   "source": [
    "import os\n",
    "from glob import glob\n",
    "# delete all files with _hat.wav\n",
    "for f in glob('data/**/**_hat.wav'):\n",
    "    os.remove(f)\n",
    "\n",
    "FS = 44100\n",
    "stft = utils.get_stft(fs=FS)"
   ]
  },
  {
   "cell_type": "code",
   "execution_count": null,
   "metadata": {},
   "outputs": [
    {
     "name": "stderr",
     "output_type": "stream",
     "text": [
      "2it [00:00,  5.74it/s]"
     ]
    },
    {
     "name": "stdout",
     "output_type": "stream",
     "text": [
      "[[ 0.75013838 -0.22872972  0.06775588 ...  0.78225283  0.77540292\n",
      "   0.86139403]\n",
      " [ 0.90733926  0.38855803  0.43985821 ...  0.48604539  0.62873925\n",
      "   0.70555426]\n",
      " [-0.09651976 -0.17780221 -0.01063181 ...  0.5428377   0.69144383\n",
      "   0.68308714]\n",
      " ...\n",
      " [ 0.17235238 -0.08866042 -0.05647785 ...  0.99986576  0.9999623\n",
      "   0.9999721 ]\n",
      " [-0.09696846 -0.13084458 -0.1513419  ...  0.99987938  0.99996953\n",
      "   0.99998621]\n",
      " [ 0.0301151   0.27069207  0.27276086 ...  0.99990236  0.99999096\n",
      "   0.99999678]]\n",
      "[[ 0.84493707  0.87568237  0.84435323 ...  0.77720969  0.78367652\n",
      "   0.76530098]\n",
      " [ 0.99619339  0.97061538  0.98075035 ...  0.93622768  0.92077887\n",
      "   0.92538475]\n",
      " [ 0.55229379  0.89787161  0.88688152 ...  0.86588353  0.84968861\n",
      "   0.81120776]\n",
      " ...\n",
      " [ 0.29573141  0.00384122 -0.11495963 ... -0.94724108 -0.98041472\n",
      "  -0.98371376]\n",
      " [-0.08460059  0.00200618 -0.03844582 ... -0.92099013 -0.98624072\n",
      "  -0.99656598]\n",
      " [-0.66898418  0.03028949  0.14746236 ... -0.90263105 -0.98517886\n",
      "  -0.99502645]]\n"
     ]
    },
    {
     "name": "stderr",
     "output_type": "stream",
     "text": [
      "3it [00:00,  5.14it/s]"
     ]
    },
    {
     "name": "stdout",
     "output_type": "stream",
     "text": [
      "[[ 0.63168802  0.74947525  0.95335763 ...  0.83770782  0.88787163\n",
      "   0.90593832]\n",
      " [ 0.99617393  0.99495088  0.99526963 ...  0.92194177  0.92719658\n",
      "   0.89351239]\n",
      " [ 0.99052749  0.99815282  0.99732442 ...  0.78429358  0.87539759\n",
      "   0.90759967]\n",
      " ...\n",
      " [-0.5888529  -0.10964038 -0.13741575 ... -0.027945   -0.2936149\n",
      "  -0.40888141]\n",
      " [-0.00632056  0.178721   -0.09478092 ... -0.12552018 -0.07896963\n",
      "  -0.29586755]\n",
      " [ 0.59511921 -0.13111548 -0.13747668 ... -0.16894161 -0.53144976\n",
      "  -0.62159327]]\n"
     ]
    },
    {
     "name": "stderr",
     "output_type": "stream",
     "text": [
      "4it [00:00,  4.58it/s]"
     ]
    },
    {
     "name": "stdout",
     "output_type": "stream",
     "text": [
      "[[ 0.99997039  0.99998137  0.99997797 ...  0.99999087  0.99999176\n",
      "   0.99999639]\n",
      " [ 0.99995862  0.99993383  0.99993134 ...  0.99999164  0.99999635\n",
      "   0.99999767]\n",
      " [ 0.99962864  0.99930127  0.99917653 ...  0.99942772  0.9995133\n",
      "   0.99975758]\n",
      " ...\n",
      " [ 0.41213658  0.27683169  0.33528498 ...  0.99990471  0.99999081\n",
      "   0.99999715]\n",
      " [-0.01944529 -0.12411329 -0.06762995 ...  0.99987824  0.99998239\n",
      "   0.99999476]\n",
      " [ 0.39166877  0.26340922  0.12733328 ...  0.99991316  0.99998195\n",
      "   0.99999364]]\n"
     ]
    },
    {
     "name": "stderr",
     "output_type": "stream",
     "text": [
      "5it [00:01,  4.31it/s]"
     ]
    },
    {
     "name": "stdout",
     "output_type": "stream",
     "text": [
      "[[ 0.99211793  0.76908695  0.66581525 ...  0.83817348  0.93688957\n",
      "   0.94651309]\n",
      " [-0.06845352  0.27978288  0.27432789 ...  0.96063786  0.95365525\n",
      "   0.94461397]\n",
      " [-0.02092894  0.41786298  0.60388536 ...  0.95226811  0.95681276\n",
      "   0.96991973]\n",
      " ...\n",
      " [-0.63528921 -0.66821183 -0.73264757 ...  0.07238795  0.74701154\n",
      "   0.92561212]\n",
      " [-0.66153842 -0.77197643 -0.87065771 ...  0.48855061  0.8630665\n",
      "   0.93473945]\n",
      " [-0.68085673 -0.51726761 -0.37456822 ...  0.99980003  0.99988267\n",
      "   0.99988876]]\n"
     ]
    },
    {
     "name": "stderr",
     "output_type": "stream",
     "text": [
      "6it [00:01,  4.07it/s]"
     ]
    },
    {
     "name": "stdout",
     "output_type": "stream",
     "text": [
      "[[ 0.99999191  0.99999748  0.99999762 ...  0.99999868  0.99999922\n",
      "   0.9999996 ]\n",
      " [ 0.99999957  0.99999974  0.99999988 ...  0.99999974  0.99999971\n",
      "   0.99999978]\n",
      " [ 0.99999993  0.9999999   0.99999988 ...  1.          1.\n",
      "   1.        ]\n",
      " ...\n",
      " [ 0.60858136  0.27183938  0.13034353 ...  0.99966304  0.99995218\n",
      "   0.99998067]\n",
      " [ 0.51335266  0.35901379  0.22435268 ...  0.99956317  0.99992266\n",
      "   0.99996931]\n",
      " [ 0.58330995  0.14241148 -0.1266562  ...  0.99965645  0.99995528\n",
      "   0.99998891]]\n"
     ]
    },
    {
     "name": "stderr",
     "output_type": "stream",
     "text": [
      "7it [00:01,  3.94it/s]"
     ]
    },
    {
     "name": "stdout",
     "output_type": "stream",
     "text": [
      "[[ 0.96551176  0.96085962  0.96208868 ...  0.99953     0.99960218\n",
      "   0.9996505 ]\n",
      " [ 0.91941943  0.24057774  0.28636036 ...  0.99701587  0.99518474\n",
      "   0.99387581]\n",
      " [ 0.68555966  0.7934193   0.87763503 ...  0.99829079  0.99919848\n",
      "   0.9986759 ]\n",
      " ...\n",
      " [-0.07984297  0.01949937  0.22156858 ...  0.99947998  0.99799443\n",
      "   0.99569456]\n",
      " [ 0.10178636  0.01274263  0.00198571 ...  0.99476571  0.97228675\n",
      "   0.9426446 ]\n",
      " [-0.01553566 -0.21764737 -0.17285732 ...  0.99030126  0.99933196\n",
      "   0.99865161]]\n"
     ]
    },
    {
     "name": "stderr",
     "output_type": "stream",
     "text": [
      "8it [00:01,  3.81it/s]"
     ]
    },
    {
     "name": "stdout",
     "output_type": "stream",
     "text": [
      "[[-0.02462914 -0.34844978 -0.13398469 ...  0.99897851  0.99851698\n",
      "   0.99901817]\n",
      " [-0.04736297 -0.00230033  0.07818976 ...  0.93926054  0.97316867\n",
      "   0.98704918]\n",
      " [-0.39177347 -0.26104869 -0.08096054 ...  0.98193715  0.98835542\n",
      "   0.99092265]\n",
      " ...\n",
      " [-0.64473311 -0.04138584 -0.16485043 ...  0.98609877  0.99904057\n",
      "   0.9999088 ]\n",
      " [ 0.00724341  0.06236173  0.03558446 ...  0.98736231  0.99876122\n",
      "   0.99988131]\n",
      " [ 0.64894394  0.48185914  0.05584582 ...  0.99788534  0.99951958\n",
      "   0.99815304]]\n"
     ]
    },
    {
     "name": "stderr",
     "output_type": "stream",
     "text": [
      "9it [00:02,  3.72it/s]"
     ]
    },
    {
     "name": "stdout",
     "output_type": "stream",
     "text": [
      "[[0.99981426 0.99780185 0.99486468 ... 0.99840528 0.99872731 0.99951469]\n",
      " [0.98131987 0.97206991 0.98999683 ... 0.99577694 0.99289201 0.99486087]\n",
      " [0.99967171 0.99999693 0.99999503 ... 0.97842385 0.98189017 0.98349837]\n",
      " ...\n",
      " [0.97977638 0.98986761 0.99999628 ... 0.98655836 0.98649437 0.97790955]\n",
      " [0.99989001 0.99999986 0.99999993 ... 0.52462646 0.87734964 0.99532428]\n",
      " [0.99971554 0.99992551 0.9999237  ... 0.99787496 0.99308199 0.99733159]]\n"
     ]
    },
    {
     "name": "stderr",
     "output_type": "stream",
     "text": [
      "10it [00:02,  3.70it/s]"
     ]
    },
    {
     "name": "stdout",
     "output_type": "stream",
     "text": [
      "[[ 0.67821249  0.89797209  0.94400385 ...  0.85018835  0.8723236\n",
      "   0.92652242]\n",
      " [ 0.73666411  0.76180293  0.77993281 ...  0.70381675  0.89033952\n",
      "   0.97195965]\n",
      " [ 0.94915539  0.90432762  0.89630183 ...  0.82049575  0.91940995\n",
      "   0.96947074]\n",
      " ...\n",
      " [-0.51322566 -0.35847358 -0.20932712 ...  0.99255311  0.99925615\n",
      "   0.99980836]\n",
      " [ 0.29914073  0.11354708 -0.02790953 ...  0.9951203   0.99938582\n",
      "   0.9998776 ]\n",
      " [-0.25768007 -0.44318867 -0.41555378 ...  0.99964294  0.99995655\n",
      "   0.9999871 ]]\n"
     ]
    },
    {
     "name": "stderr",
     "output_type": "stream",
     "text": [
      "11it [00:02,  3.87it/s]"
     ]
    },
    {
     "name": "stdout",
     "output_type": "stream",
     "text": [
      "[[1. 1. 1. ... 1. 1. 1.]\n",
      " [1. 1. 1. ... 1. 1. 1.]\n",
      " [1. 1. 1. ... 1. 1. 1.]\n",
      " ...\n",
      " [1. 1. 1. ... 1. 1. 1.]\n",
      " [1. 1. 1. ... 1. 1. 1.]\n",
      " [1. 1. 1. ... 1. 1. 1.]]\n"
     ]
    },
    {
     "name": "stderr",
     "output_type": "stream",
     "text": [
      "\n"
     ]
    },
    {
     "ename": "KeyboardInterrupt",
     "evalue": "",
     "output_type": "error",
     "traceback": [
      "\u001b[0;31m---------------------------------------------------------------------------\u001b[0m",
      "\u001b[0;31mKeyboardInterrupt\u001b[0m                         Traceback (most recent call last)",
      "Cell \u001b[0;32mIn[64], line 15\u001b[0m\n\u001b[1;32m     12\u001b[0m test_labels \u001b[38;5;241m=\u001b[39m np\u001b[38;5;241m.\u001b[39mzeros((n_test, \u001b[38;5;241m1294\u001b[39m, utils\u001b[38;5;241m.\u001b[39mFREQ_BINS\u001b[38;5;241m*\u001b[39m\u001b[38;5;241m2\u001b[39m))\n\u001b[1;32m     14\u001b[0m \u001b[38;5;28;01mfor\u001b[39;00m i, f \u001b[38;5;129;01min\u001b[39;00m tqdm(\u001b[38;5;28menumerate\u001b[39m(train)):\n\u001b[0;32m---> 15\u001b[0m     s, BS, P_IID, P_IC, P, m \u001b[38;5;241m=\u001b[39m \u001b[43mutils\u001b[49m\u001b[38;5;241;43m.\u001b[39;49m\u001b[43mfile_to_feature_label\u001b[49m\u001b[43m(\u001b[49m\u001b[43mf\u001b[49m\u001b[43m,\u001b[49m\u001b[43m \u001b[49m\u001b[43mstft\u001b[49m\u001b[43m)\u001b[49m\n\u001b[1;32m     16\u001b[0m     train_features[i] \u001b[38;5;241m=\u001b[39m utils\u001b[38;5;241m.\u001b[39mcomplex_to_real(BS)\u001b[38;5;241m.\u001b[39mT\n\u001b[1;32m     17\u001b[0m     train_labels[i] \u001b[38;5;241m=\u001b[39m utils\u001b[38;5;241m.\u001b[39mcomplex_to_real(P_IC)\u001b[38;5;241m.\u001b[39mT\n",
      "File \u001b[0;32m~/mono-to-stereo/python/utils.py:42\u001b[0m, in \u001b[0;36mfile_to_feature_label\u001b[0;34m(f, stft)\u001b[0m\n\u001b[1;32m     40\u001b[0m \u001b[38;5;66;03m# create mono track\u001b[39;00m\n\u001b[1;32m     41\u001b[0m s \u001b[38;5;241m=\u001b[39m (l \u001b[38;5;241m+\u001b[39m r) \u001b[38;5;241m/\u001b[39m \u001b[38;5;241m2\u001b[39m\n\u001b[0;32m---> 42\u001b[0m BS \u001b[38;5;241m=\u001b[39m b_matrix() \u001b[38;5;241m@\u001b[39m \u001b[43mspectrogram\u001b[49m\u001b[43m(\u001b[49m\u001b[43mstft\u001b[49m\u001b[43m,\u001b[49m\u001b[43m \u001b[49m\u001b[43ms\u001b[49m\u001b[43m)\u001b[49m\n\u001b[1;32m     44\u001b[0m ps \u001b[38;5;241m=\u001b[39m np\u001b[38;5;241m.\u001b[39mload(f \u001b[38;5;241m+\u001b[39m \u001b[38;5;124m'\u001b[39m\u001b[38;5;124m_ps.npz\u001b[39m\u001b[38;5;124m'\u001b[39m)\n\u001b[1;32m     45\u001b[0m P_IID, P_IC \u001b[38;5;241m=\u001b[39m ps[\u001b[38;5;124m'\u001b[39m\u001b[38;5;124mP_IID\u001b[39m\u001b[38;5;124m'\u001b[39m], ps[\u001b[38;5;124m'\u001b[39m\u001b[38;5;124mP_IC\u001b[39m\u001b[38;5;124m'\u001b[39m]\n",
      "File \u001b[0;32m~/mono-to-stereo/python/utils.py:96\u001b[0m, in \u001b[0;36mspectrogram\u001b[0;34m(stft, x)\u001b[0m\n\u001b[1;32m     95\u001b[0m \u001b[38;5;28;01mdef\u001b[39;00m \u001b[38;5;21mspectrogram\u001b[39m(stft, x):\n\u001b[0;32m---> 96\u001b[0m     X \u001b[38;5;241m=\u001b[39m \u001b[43mstft\u001b[49m\u001b[38;5;241;43m.\u001b[39;49m\u001b[43mstft\u001b[49m\u001b[43m(\u001b[49m\u001b[43mx\u001b[49m\u001b[43m)\u001b[49m\n\u001b[1;32m     97\u001b[0m     \u001b[38;5;28;01mreturn\u001b[39;00m X\n",
      "File \u001b[0;32m~/.local/lib/python3.10/site-packages/scipy/signal/_short_time_fft.py:798\u001b[0m, in \u001b[0;36mShortTimeFFT.stft\u001b[0;34m(self, x, p0, p1, k_offset, padding, axis)\u001b[0m\n\u001b[1;32m    741\u001b[0m \u001b[38;5;28;01mdef\u001b[39;00m \u001b[38;5;21mstft\u001b[39m(\u001b[38;5;28mself\u001b[39m, x: np\u001b[38;5;241m.\u001b[39mndarray, p0: \u001b[38;5;28mint\u001b[39m \u001b[38;5;241m|\u001b[39m \u001b[38;5;28;01mNone\u001b[39;00m \u001b[38;5;241m=\u001b[39m \u001b[38;5;28;01mNone\u001b[39;00m,\n\u001b[1;32m    742\u001b[0m          p1: \u001b[38;5;28mint\u001b[39m \u001b[38;5;241m|\u001b[39m \u001b[38;5;28;01mNone\u001b[39;00m \u001b[38;5;241m=\u001b[39m \u001b[38;5;28;01mNone\u001b[39;00m, \u001b[38;5;241m*\u001b[39m, k_offset: \u001b[38;5;28mint\u001b[39m \u001b[38;5;241m=\u001b[39m \u001b[38;5;241m0\u001b[39m,\n\u001b[1;32m    743\u001b[0m          padding: PAD_TYPE \u001b[38;5;241m=\u001b[39m \u001b[38;5;124m'\u001b[39m\u001b[38;5;124mzeros\u001b[39m\u001b[38;5;124m'\u001b[39m, axis: \u001b[38;5;28mint\u001b[39m \u001b[38;5;241m=\u001b[39m \u001b[38;5;241m-\u001b[39m\u001b[38;5;241m1\u001b[39m) \\\n\u001b[1;32m    744\u001b[0m         \u001b[38;5;241m-\u001b[39m\u001b[38;5;241m>\u001b[39m np\u001b[38;5;241m.\u001b[39mndarray:\n\u001b[1;32m    745\u001b[0m \u001b[38;5;250m    \u001b[39m\u001b[38;5;124;03m\"\"\"Perform the short-time Fourier transform.\u001b[39;00m\n\u001b[1;32m    746\u001b[0m \n\u001b[1;32m    747\u001b[0m \u001b[38;5;124;03m    A two-dimensional matrix with ``p1-p0`` columns is calculated.\u001b[39;00m\n\u001b[0;32m   (...)\u001b[0m\n\u001b[1;32m    796\u001b[0m \u001b[38;5;124;03m    :class:`scipy.signal.ShortTimeFFT`: Class this method belongs to.\u001b[39;00m\n\u001b[1;32m    797\u001b[0m \u001b[38;5;124;03m    \"\"\"\u001b[39;00m\n\u001b[0;32m--> 798\u001b[0m     \u001b[38;5;28;01mreturn\u001b[39;00m \u001b[38;5;28;43mself\u001b[39;49m\u001b[38;5;241;43m.\u001b[39;49m\u001b[43mstft_detrend\u001b[49m\u001b[43m(\u001b[49m\u001b[43mx\u001b[49m\u001b[43m,\u001b[49m\u001b[43m \u001b[49m\u001b[38;5;28;43;01mNone\u001b[39;49;00m\u001b[43m,\u001b[49m\u001b[43m \u001b[49m\u001b[43mp0\u001b[49m\u001b[43m,\u001b[49m\u001b[43m \u001b[49m\u001b[43mp1\u001b[49m\u001b[43m,\u001b[49m\u001b[43m \u001b[49m\u001b[43mk_offset\u001b[49m\u001b[38;5;241;43m=\u001b[39;49m\u001b[43mk_offset\u001b[49m\u001b[43m,\u001b[49m\n\u001b[1;32m    799\u001b[0m \u001b[43m                             \u001b[49m\u001b[43mpadding\u001b[49m\u001b[38;5;241;43m=\u001b[39;49m\u001b[43mpadding\u001b[49m\u001b[43m,\u001b[49m\u001b[43m \u001b[49m\u001b[43maxis\u001b[49m\u001b[38;5;241;43m=\u001b[39;49m\u001b[43maxis\u001b[49m\u001b[43m)\u001b[49m\n",
      "File \u001b[0;32m~/.local/lib/python3.10/site-packages/scipy/signal/_short_time_fft.py:850\u001b[0m, in \u001b[0;36mShortTimeFFT.stft_detrend\u001b[0;34m(self, x, detr, p0, p1, k_offset, padding, axis)\u001b[0m\n\u001b[1;32m    848\u001b[0m     \u001b[38;5;28;01mif\u001b[39;00m detr \u001b[38;5;129;01mis\u001b[39;00m \u001b[38;5;129;01mnot\u001b[39;00m \u001b[38;5;28;01mNone\u001b[39;00m:\n\u001b[1;32m    849\u001b[0m         x_ \u001b[38;5;241m=\u001b[39m detr(x_)\n\u001b[0;32m--> 850\u001b[0m     S[\u001b[38;5;241m.\u001b[39m\u001b[38;5;241m.\u001b[39m\u001b[38;5;241m.\u001b[39m, :, p_] \u001b[38;5;241m=\u001b[39m \u001b[38;5;28;43mself\u001b[39;49m\u001b[38;5;241;43m.\u001b[39;49m\u001b[43m_fft_func\u001b[49m\u001b[43m(\u001b[49m\u001b[43mx_\u001b[49m\u001b[43m \u001b[49m\u001b[38;5;241;43m*\u001b[39;49m\u001b[43m \u001b[49m\u001b[38;5;28;43mself\u001b[39;49m\u001b[38;5;241;43m.\u001b[39;49m\u001b[43mwin\u001b[49m\u001b[38;5;241;43m.\u001b[39;49m\u001b[43mconj\u001b[49m\u001b[43m(\u001b[49m\u001b[43m)\u001b[49m\u001b[43m)\u001b[49m\n\u001b[1;32m    851\u001b[0m \u001b[38;5;28;01mif\u001b[39;00m x\u001b[38;5;241m.\u001b[39mndim \u001b[38;5;241m>\u001b[39m \u001b[38;5;241m1\u001b[39m:\n\u001b[1;32m    852\u001b[0m     \u001b[38;5;28;01mreturn\u001b[39;00m np\u001b[38;5;241m.\u001b[39mmoveaxis(S, \u001b[38;5;241m-\u001b[39m\u001b[38;5;241m2\u001b[39m, axis \u001b[38;5;28;01mif\u001b[39;00m axis \u001b[38;5;241m>\u001b[39m\u001b[38;5;241m=\u001b[39m \u001b[38;5;241m0\u001b[39m \u001b[38;5;28;01melse\u001b[39;00m axis\u001b[38;5;241m-\u001b[39m\u001b[38;5;241m1\u001b[39m)\n",
      "File \u001b[0;32m~/.local/lib/python3.10/site-packages/scipy/signal/_short_time_fft.py:1587\u001b[0m, in \u001b[0;36mShortTimeFFT._fft_func\u001b[0;34m(self, x)\u001b[0m\n\u001b[1;32m   1585\u001b[0m     \u001b[38;5;28;01mreturn\u001b[39;00m fft_lib\u001b[38;5;241m.\u001b[39mfftshift(fft_lib\u001b[38;5;241m.\u001b[39mfft(x, \u001b[38;5;28mself\u001b[39m\u001b[38;5;241m.\u001b[39mmfft, axis\u001b[38;5;241m=\u001b[39m\u001b[38;5;241m-\u001b[39m\u001b[38;5;241m1\u001b[39m), axes\u001b[38;5;241m=\u001b[39m\u001b[38;5;241m-\u001b[39m\u001b[38;5;241m1\u001b[39m)\n\u001b[1;32m   1586\u001b[0m \u001b[38;5;28;01mif\u001b[39;00m \u001b[38;5;28mself\u001b[39m\u001b[38;5;241m.\u001b[39mfft_mode \u001b[38;5;241m==\u001b[39m \u001b[38;5;124m'\u001b[39m\u001b[38;5;124monesided\u001b[39m\u001b[38;5;124m'\u001b[39m:\n\u001b[0;32m-> 1587\u001b[0m     \u001b[38;5;28;01mreturn\u001b[39;00m \u001b[43mfft_lib\u001b[49m\u001b[38;5;241;43m.\u001b[39;49m\u001b[43mrfft\u001b[49m\u001b[43m(\u001b[49m\u001b[43mx\u001b[49m\u001b[43m,\u001b[49m\u001b[43m \u001b[49m\u001b[43mn\u001b[49m\u001b[38;5;241;43m=\u001b[39;49m\u001b[38;5;28;43mself\u001b[39;49m\u001b[38;5;241;43m.\u001b[39;49m\u001b[43mmfft\u001b[49m\u001b[43m,\u001b[49m\u001b[43m \u001b[49m\u001b[43maxis\u001b[49m\u001b[38;5;241;43m=\u001b[39;49m\u001b[38;5;241;43m-\u001b[39;49m\u001b[38;5;241;43m1\u001b[39;49m\u001b[43m)\u001b[49m\n\u001b[1;32m   1588\u001b[0m \u001b[38;5;28;01mif\u001b[39;00m \u001b[38;5;28mself\u001b[39m\u001b[38;5;241m.\u001b[39mfft_mode \u001b[38;5;241m==\u001b[39m \u001b[38;5;124m'\u001b[39m\u001b[38;5;124monesided2X\u001b[39m\u001b[38;5;124m'\u001b[39m:\n\u001b[1;32m   1589\u001b[0m     X \u001b[38;5;241m=\u001b[39m fft_lib\u001b[38;5;241m.\u001b[39mrfft(x, n\u001b[38;5;241m=\u001b[39m\u001b[38;5;28mself\u001b[39m\u001b[38;5;241m.\u001b[39mmfft, axis\u001b[38;5;241m=\u001b[39m\u001b[38;5;241m-\u001b[39m\u001b[38;5;241m1\u001b[39m)\n",
      "File \u001b[0;32m~/.local/lib/python3.10/site-packages/scipy/fft/_backend.py:28\u001b[0m, in \u001b[0;36m_ScipyBackend.__ua_function__\u001b[0;34m(method, args, kwargs)\u001b[0m\n\u001b[1;32m     26\u001b[0m \u001b[38;5;28;01mif\u001b[39;00m fn \u001b[38;5;129;01mis\u001b[39;00m \u001b[38;5;28;01mNone\u001b[39;00m:\n\u001b[1;32m     27\u001b[0m     \u001b[38;5;28;01mreturn\u001b[39;00m \u001b[38;5;28mNotImplemented\u001b[39m\n\u001b[0;32m---> 28\u001b[0m \u001b[38;5;28;01mreturn\u001b[39;00m \u001b[43mfn\u001b[49m\u001b[43m(\u001b[49m\u001b[38;5;241;43m*\u001b[39;49m\u001b[43margs\u001b[49m\u001b[43m,\u001b[49m\u001b[43m \u001b[49m\u001b[38;5;241;43m*\u001b[39;49m\u001b[38;5;241;43m*\u001b[39;49m\u001b[43mkwargs\u001b[49m\u001b[43m)\u001b[49m\n",
      "File \u001b[0;32m~/.local/lib/python3.10/site-packages/scipy/fft/_basic_backend.py:74\u001b[0m, in \u001b[0;36mrfft\u001b[0;34m(x, n, axis, norm, overwrite_x, workers, plan)\u001b[0m\n\u001b[1;32m     72\u001b[0m \u001b[38;5;28;01mdef\u001b[39;00m \u001b[38;5;21mrfft\u001b[39m(x, n\u001b[38;5;241m=\u001b[39m\u001b[38;5;28;01mNone\u001b[39;00m, axis\u001b[38;5;241m=\u001b[39m\u001b[38;5;241m-\u001b[39m\u001b[38;5;241m1\u001b[39m, norm\u001b[38;5;241m=\u001b[39m\u001b[38;5;28;01mNone\u001b[39;00m,\n\u001b[1;32m     73\u001b[0m          overwrite_x\u001b[38;5;241m=\u001b[39m\u001b[38;5;28;01mFalse\u001b[39;00m, workers\u001b[38;5;241m=\u001b[39m\u001b[38;5;28;01mNone\u001b[39;00m, \u001b[38;5;241m*\u001b[39m, plan\u001b[38;5;241m=\u001b[39m\u001b[38;5;28;01mNone\u001b[39;00m):\n\u001b[0;32m---> 74\u001b[0m     \u001b[38;5;28;01mreturn\u001b[39;00m \u001b[43m_execute_1D\u001b[49m\u001b[43m(\u001b[49m\u001b[38;5;124;43m'\u001b[39;49m\u001b[38;5;124;43mrfft\u001b[39;49m\u001b[38;5;124;43m'\u001b[39;49m\u001b[43m,\u001b[49m\u001b[43m \u001b[49m\u001b[43m_pocketfft\u001b[49m\u001b[38;5;241;43m.\u001b[39;49m\u001b[43mrfft\u001b[49m\u001b[43m,\u001b[49m\u001b[43m \u001b[49m\u001b[43mx\u001b[49m\u001b[43m,\u001b[49m\u001b[43m \u001b[49m\u001b[43mn\u001b[49m\u001b[38;5;241;43m=\u001b[39;49m\u001b[43mn\u001b[49m\u001b[43m,\u001b[49m\u001b[43m \u001b[49m\u001b[43maxis\u001b[49m\u001b[38;5;241;43m=\u001b[39;49m\u001b[43maxis\u001b[49m\u001b[43m,\u001b[49m\u001b[43m \u001b[49m\u001b[43mnorm\u001b[49m\u001b[38;5;241;43m=\u001b[39;49m\u001b[43mnorm\u001b[49m\u001b[43m,\u001b[49m\n\u001b[1;32m     75\u001b[0m \u001b[43m                       \u001b[49m\u001b[43moverwrite_x\u001b[49m\u001b[38;5;241;43m=\u001b[39;49m\u001b[43moverwrite_x\u001b[49m\u001b[43m,\u001b[49m\u001b[43m \u001b[49m\u001b[43mworkers\u001b[49m\u001b[38;5;241;43m=\u001b[39;49m\u001b[43mworkers\u001b[49m\u001b[43m,\u001b[49m\u001b[43m \u001b[49m\u001b[43mplan\u001b[49m\u001b[38;5;241;43m=\u001b[39;49m\u001b[43mplan\u001b[49m\u001b[43m)\u001b[49m\n",
      "File \u001b[0;32m~/.local/lib/python3.10/site-packages/scipy/fft/_basic_backend.py:29\u001b[0m, in \u001b[0;36m_execute_1D\u001b[0;34m(func_str, pocketfft_func, x, n, axis, norm, overwrite_x, workers, plan)\u001b[0m\n\u001b[1;32m     27\u001b[0m \u001b[38;5;28;01mif\u001b[39;00m is_numpy(xp):\n\u001b[1;32m     28\u001b[0m     x \u001b[38;5;241m=\u001b[39m np\u001b[38;5;241m.\u001b[39masarray(x)\n\u001b[0;32m---> 29\u001b[0m     \u001b[38;5;28;01mreturn\u001b[39;00m \u001b[43mpocketfft_func\u001b[49m\u001b[43m(\u001b[49m\u001b[43mx\u001b[49m\u001b[43m,\u001b[49m\u001b[43m \u001b[49m\u001b[43mn\u001b[49m\u001b[38;5;241;43m=\u001b[39;49m\u001b[43mn\u001b[49m\u001b[43m,\u001b[49m\u001b[43m \u001b[49m\u001b[43maxis\u001b[49m\u001b[38;5;241;43m=\u001b[39;49m\u001b[43maxis\u001b[49m\u001b[43m,\u001b[49m\u001b[43m \u001b[49m\u001b[43mnorm\u001b[49m\u001b[38;5;241;43m=\u001b[39;49m\u001b[43mnorm\u001b[49m\u001b[43m,\u001b[49m\n\u001b[1;32m     30\u001b[0m \u001b[43m                          \u001b[49m\u001b[43moverwrite_x\u001b[49m\u001b[38;5;241;43m=\u001b[39;49m\u001b[43moverwrite_x\u001b[49m\u001b[43m,\u001b[49m\u001b[43m \u001b[49m\u001b[43mworkers\u001b[49m\u001b[38;5;241;43m=\u001b[39;49m\u001b[43mworkers\u001b[49m\u001b[43m,\u001b[49m\u001b[43m \u001b[49m\u001b[43mplan\u001b[49m\u001b[38;5;241;43m=\u001b[39;49m\u001b[43mplan\u001b[49m\u001b[43m)\u001b[49m\n\u001b[1;32m     32\u001b[0m norm \u001b[38;5;241m=\u001b[39m _validate_fft_args(workers, plan, norm)\n\u001b[1;32m     33\u001b[0m \u001b[38;5;28;01mif\u001b[39;00m \u001b[38;5;28mhasattr\u001b[39m(xp, \u001b[38;5;124m'\u001b[39m\u001b[38;5;124mfft\u001b[39m\u001b[38;5;124m'\u001b[39m):\n",
      "File \u001b[0;32m~/.local/lib/python3.10/site-packages/scipy/fft/_pocketfft/basic.py:61\u001b[0m, in \u001b[0;36mr2c\u001b[0;34m(forward, x, n, axis, norm, overwrite_x, workers, plan)\u001b[0m\n\u001b[1;32m     58\u001b[0m     \u001b[38;5;28;01mraise\u001b[39;00m \u001b[38;5;167;01mValueError\u001b[39;00m(\u001b[38;5;124mf\u001b[39m\u001b[38;5;124m\"\u001b[39m\u001b[38;5;124minvalid number of data points (\u001b[39m\u001b[38;5;132;01m{\u001b[39;00mtmp\u001b[38;5;241m.\u001b[39mshape[axis]\u001b[38;5;132;01m}\u001b[39;00m\u001b[38;5;124m) specified\u001b[39m\u001b[38;5;124m\"\u001b[39m)\n\u001b[1;32m     60\u001b[0m \u001b[38;5;66;03m# Note: overwrite_x is not utilised\u001b[39;00m\n\u001b[0;32m---> 61\u001b[0m \u001b[38;5;28;01mreturn\u001b[39;00m \u001b[43mpfft\u001b[49m\u001b[38;5;241;43m.\u001b[39;49m\u001b[43mr2c\u001b[49m\u001b[43m(\u001b[49m\u001b[43mtmp\u001b[49m\u001b[43m,\u001b[49m\u001b[43m \u001b[49m\u001b[43m(\u001b[49m\u001b[43maxis\u001b[49m\u001b[43m,\u001b[49m\u001b[43m)\u001b[49m\u001b[43m,\u001b[49m\u001b[43m \u001b[49m\u001b[43mforward\u001b[49m\u001b[43m,\u001b[49m\u001b[43m \u001b[49m\u001b[43mnorm\u001b[49m\u001b[43m,\u001b[49m\u001b[43m \u001b[49m\u001b[38;5;28;43;01mNone\u001b[39;49;00m\u001b[43m,\u001b[49m\u001b[43m \u001b[49m\u001b[43mworkers\u001b[49m\u001b[43m)\u001b[49m\n",
      "\u001b[0;31mKeyboardInterrupt\u001b[0m: "
     ]
    }
   ],
   "source": [
    "n_train = 300\n",
    "n_test = 50\n",
    "\n",
    "files = glob('data/**/**.wav')\n",
    "train = files[:n_train]\n",
    "test = files[n_train:n_train+n_test]\n",
    "\n",
    "train_features = np.zeros((n_train, 1294, utils.FREQ_BINS*2))\n",
    "train_labels = np.zeros((n_train, 1294, utils.FREQ_BINS*2))\n",
    "\n",
    "test_features = np.zeros((n_test, 1294, utils.FREQ_BINS*2))\n",
    "test_labels = np.zeros((n_test, 1294, utils.FREQ_BINS*2))\n",
    "\n",
    "for i, f in tqdm(enumerate(train)):\n",
    "    s, BS, P_IID, P_IC, P, m = utils.file_to_feature_label(f, stft)\n",
    "    train_features[i] = utils.complex_to_real(BS).T\n",
    "    train_labels[i] = utils.complex_to_real(P_IC).T\n",
    "\n",
    "for i, f in tqdm(enumerate(test)):\n",
    "    s, BS, P_IID, P_IC, P, m = utils.file_to_feature_label(f, stft)\n",
    "    test_features[i] = utils.complex_to_real(BS).T\n",
    "    test_labels[i] = utils.complex_to_real(P_IC).T"
   ]
  },
  {
   "cell_type": "code",
   "execution_count": 56,
   "metadata": {},
   "outputs": [
    {
     "data": {
      "text/html": [
       "<pre style=\"white-space:pre;overflow-x:auto;line-height:normal;font-family:Menlo,'DejaVu Sans Mono',consolas,'Courier New',monospace\"><span style=\"font-weight: bold\">Model: \"sequential_5\"</span>\n",
       "</pre>\n"
      ],
      "text/plain": [
       "\u001b[1mModel: \"sequential_5\"\u001b[0m\n"
      ]
     },
     "metadata": {},
     "output_type": "display_data"
    },
    {
     "data": {
      "text/html": [
       "<pre style=\"white-space:pre;overflow-x:auto;line-height:normal;font-family:Menlo,'DejaVu Sans Mono',consolas,'Courier New',monospace\">┏━━━━━━━━━━━━━━━━━━━━━━━━━━━━━━━━━┳━━━━━━━━━━━━━━━━━━━━━━━━┳━━━━━━━━━━━━━━━┓\n",
       "┃<span style=\"font-weight: bold\"> Layer (type)                    </span>┃<span style=\"font-weight: bold\"> Output Shape           </span>┃<span style=\"font-weight: bold\">       Param # </span>┃\n",
       "┡━━━━━━━━━━━━━━━━━━━━━━━━━━━━━━━━━╇━━━━━━━━━━━━━━━━━━━━━━━━╇━━━━━━━━━━━━━━━┩\n",
       "│ simple_rnn_10 (<span style=\"color: #0087ff; text-decoration-color: #0087ff\">SimpleRNN</span>)       │ (<span style=\"color: #00d7ff; text-decoration-color: #00d7ff\">None</span>, <span style=\"color: #00d7ff; text-decoration-color: #00d7ff\">None</span>, <span style=\"color: #00af00; text-decoration-color: #00af00\">68</span>)       │         <span style=\"color: #00af00; text-decoration-color: #00af00\">9,316</span> │\n",
       "├─────────────────────────────────┼────────────────────────┼───────────────┤\n",
       "│ dense_7 (<span style=\"color: #0087ff; text-decoration-color: #0087ff\">Dense</span>)                 │ (<span style=\"color: #00d7ff; text-decoration-color: #00d7ff\">None</span>, <span style=\"color: #00d7ff; text-decoration-color: #00d7ff\">None</span>, <span style=\"color: #00af00; text-decoration-color: #00af00\">68</span>)       │         <span style=\"color: #00af00; text-decoration-color: #00af00\">4,692</span> │\n",
       "└─────────────────────────────────┴────────────────────────┴───────────────┘\n",
       "</pre>\n"
      ],
      "text/plain": [
       "┏━━━━━━━━━━━━━━━━━━━━━━━━━━━━━━━━━┳━━━━━━━━━━━━━━━━━━━━━━━━┳━━━━━━━━━━━━━━━┓\n",
       "┃\u001b[1m \u001b[0m\u001b[1mLayer (type)                   \u001b[0m\u001b[1m \u001b[0m┃\u001b[1m \u001b[0m\u001b[1mOutput Shape          \u001b[0m\u001b[1m \u001b[0m┃\u001b[1m \u001b[0m\u001b[1m      Param #\u001b[0m\u001b[1m \u001b[0m┃\n",
       "┡━━━━━━━━━━━━━━━━━━━━━━━━━━━━━━━━━╇━━━━━━━━━━━━━━━━━━━━━━━━╇━━━━━━━━━━━━━━━┩\n",
       "│ simple_rnn_10 (\u001b[38;5;33mSimpleRNN\u001b[0m)       │ (\u001b[38;5;45mNone\u001b[0m, \u001b[38;5;45mNone\u001b[0m, \u001b[38;5;34m68\u001b[0m)       │         \u001b[38;5;34m9,316\u001b[0m │\n",
       "├─────────────────────────────────┼────────────────────────┼───────────────┤\n",
       "│ dense_7 (\u001b[38;5;33mDense\u001b[0m)                 │ (\u001b[38;5;45mNone\u001b[0m, \u001b[38;5;45mNone\u001b[0m, \u001b[38;5;34m68\u001b[0m)       │         \u001b[38;5;34m4,692\u001b[0m │\n",
       "└─────────────────────────────────┴────────────────────────┴───────────────┘\n"
      ]
     },
     "metadata": {},
     "output_type": "display_data"
    },
    {
     "data": {
      "text/html": [
       "<pre style=\"white-space:pre;overflow-x:auto;line-height:normal;font-family:Menlo,'DejaVu Sans Mono',consolas,'Courier New',monospace\"><span style=\"font-weight: bold\"> Total params: </span><span style=\"color: #00af00; text-decoration-color: #00af00\">14,008</span> (54.72 KB)\n",
       "</pre>\n"
      ],
      "text/plain": [
       "\u001b[1m Total params: \u001b[0m\u001b[38;5;34m14,008\u001b[0m (54.72 KB)\n"
      ]
     },
     "metadata": {},
     "output_type": "display_data"
    },
    {
     "data": {
      "text/html": [
       "<pre style=\"white-space:pre;overflow-x:auto;line-height:normal;font-family:Menlo,'DejaVu Sans Mono',consolas,'Courier New',monospace\"><span style=\"font-weight: bold\"> Trainable params: </span><span style=\"color: #00af00; text-decoration-color: #00af00\">14,008</span> (54.72 KB)\n",
       "</pre>\n"
      ],
      "text/plain": [
       "\u001b[1m Trainable params: \u001b[0m\u001b[38;5;34m14,008\u001b[0m (54.72 KB)\n"
      ]
     },
     "metadata": {},
     "output_type": "display_data"
    },
    {
     "data": {
      "text/html": [
       "<pre style=\"white-space:pre;overflow-x:auto;line-height:normal;font-family:Menlo,'DejaVu Sans Mono',consolas,'Courier New',monospace\"><span style=\"font-weight: bold\"> Non-trainable params: </span><span style=\"color: #00af00; text-decoration-color: #00af00\">0</span> (0.00 B)\n",
       "</pre>\n"
      ],
      "text/plain": [
       "\u001b[1m Non-trainable params: \u001b[0m\u001b[38;5;34m0\u001b[0m (0.00 B)\n"
      ]
     },
     "metadata": {},
     "output_type": "display_data"
    }
   ],
   "source": [
    "from keras.models import Sequential\n",
    "from keras.layers import Dense, SimpleRNN, Input, LSTM\n",
    "\n",
    "model = Sequential()\n",
    "model.add(Input(shape=(None, utils.FREQ_BINS*2)))\n",
    "model.add(SimpleRNN(units=utils.FREQ_BINS*2, return_sequences=True)) #activation=activation[0]))\n",
    "\n",
    "# model.add(LSTM(units=utils.FREQ_BINS*2, return_sequences=True)) #activation=activation[1]))\n",
    "# model.add(Dense(units=utils.FREQ_BINS*2, activation='tanh'))\n",
    "model.add(Dense(units=utils.FREQ_BINS*2, activation=None))\n",
    "model.compile(loss='mean_squared_error', optimizer='adam')\n",
    "\n",
    "model.summary()\n"
   ]
  },
  {
   "cell_type": "code",
   "execution_count": 57,
   "metadata": {},
   "outputs": [
    {
     "name": "stdout",
     "output_type": "stream",
     "text": [
      "\u001b[1m300/300\u001b[0m \u001b[32m━━━━━━━━━━━━━━━━━━━━\u001b[0m\u001b[37m\u001b[0m \u001b[1m28s\u001b[0m 92ms/step - loss: 0.1807\n"
     ]
    },
    {
     "data": {
      "text/plain": [
       "<keras.src.callbacks.history.History at 0x7f682d3dba60>"
      ]
     },
     "execution_count": 57,
     "metadata": {},
     "output_type": "execute_result"
    }
   ],
   "source": [
    "model.fit(train_features, train_labels, epochs=1, batch_size=1)"
   ]
  },
  {
   "cell_type": "code",
   "execution_count": 61,
   "metadata": {},
   "outputs": [
    {
     "name": "stdout",
     "output_type": "stream",
     "text": [
      "[[0.75 0.91 0.1  0.32 0.2  0.04 0.07 0.83 0.04 0.51 0.01 0.05 0.39 0.68\n",
      "  0.37 0.17 0.14 0.22 0.05 0.78 0.48 0.12 0.21 0.18 0.52 0.3  0.32 0.17\n",
      "  0.04 0.12 0.2  0.17 0.1  0.03 0.   0.   0.   0.   0.   0.   0.   0.\n",
      "  0.   0.   0.   0.   0.   0.   0.   0.   0.   0.   0.   0.   0.   0.\n",
      "  0.   0.   0.   0.   0.   0.   0.   0.   0.   0.   0.   0.  ]]\n",
      "\u001b[1m1/1\u001b[0m \u001b[32m━━━━━━━━━━━━━━━━━━━━\u001b[0m\u001b[37m\u001b[0m \u001b[1m0s\u001b[0m 34ms/step\n",
      "[[0.08 0.06 0.05 0.05 0.06 0.05 0.04 0.09 0.06 0.07 0.03 0.08 0.09 0.05\n",
      "  0.07 0.08 0.1  0.08 0.05 0.05 0.03 0.04 0.05 0.04 0.05 0.05 0.06 0.02\n",
      "  0.02 0.03 0.02 0.07 0.06 0.02 0.03 0.   0.02 0.01 0.01 0.06 0.   0.\n",
      "  0.01 0.01 0.04 0.02 0.01 0.06 0.03 0.01 0.02 0.02 0.01 0.07 0.01 0.01\n",
      "  0.05 0.07 0.06 0.01 0.02 0.05 0.03 0.   0.01 0.03 0.07 0.05]]\n"
     ]
    }
   ],
   "source": [
    "# model.evaluate(train_features, train_labels, batch_size=1)\n",
    "# model.evaluate(test_features, test_labels, batch_size=1)\n",
    "print(np.abs(train_labels[0]).round(2)[:1])\n",
    "print(np.abs(model.predict(train_features[:1])[0]).round(2)[:1])"
   ]
  },
  {
   "cell_type": "code",
   "execution_count": 59,
   "metadata": {},
   "outputs": [
    {
     "name": "stdout",
     "output_type": "stream",
     "text": [
      "data/014/014588.wav\n",
      "\u001b[1m1/1\u001b[0m \u001b[32m━━━━━━━━━━━━━━━━━━━━\u001b[0m\u001b[37m\u001b[0m \u001b[1m0s\u001b[0m 79ms/step\n"
     ]
    },
    {
     "ename": "ValueError",
     "evalue": "operands could not be broadcast together with shapes (0,1294) (34,1294) ",
     "output_type": "error",
     "traceback": [
      "\u001b[0;31m---------------------------------------------------------------------------\u001b[0m",
      "\u001b[0;31mValueError\u001b[0m                                Traceback (most recent call last)",
      "Cell \u001b[0;32mIn[59], line 11\u001b[0m\n\u001b[1;32m      9\u001b[0m P_hat \u001b[38;5;241m=\u001b[39m utils\u001b[38;5;241m.\u001b[39mreal_to_complex(model\u001b[38;5;241m.\u001b[39mpredict(np\u001b[38;5;241m.\u001b[39marray([feature]))[\u001b[38;5;241m0\u001b[39m]\u001b[38;5;241m.\u001b[39mT)\n\u001b[1;32m     10\u001b[0m P_IID_hat, P_IC_hat \u001b[38;5;241m=\u001b[39m utils\u001b[38;5;241m.\u001b[39mparameters_split(P_hat)\n\u001b[0;32m---> 11\u001b[0m l_hat, r_hat \u001b[38;5;241m=\u001b[39m \u001b[43mutils\u001b[49m\u001b[38;5;241;43m.\u001b[39;49m\u001b[43mdecode\u001b[49m\u001b[43m(\u001b[49m\u001b[43mstft\u001b[49m\u001b[38;5;241;43m=\u001b[39;49m\u001b[43mstft\u001b[49m\u001b[43m,\u001b[49m\u001b[43m \u001b[49m\u001b[43ms\u001b[49m\u001b[38;5;241;43m=\u001b[39;49m\u001b[43ms\u001b[49m\u001b[43m,\u001b[49m\u001b[43m \u001b[49m\u001b[43mP_IID\u001b[49m\u001b[38;5;241;43m=\u001b[39;49m\u001b[43mP_IID_hat\u001b[49m\u001b[43m,\u001b[49m\u001b[43m \u001b[49m\u001b[43mP_IC\u001b[49m\u001b[38;5;241;43m=\u001b[39;49m\u001b[43mP_IC_hat\u001b[49m\u001b[43m)\u001b[49m\n\u001b[1;32m     12\u001b[0m scipy\u001b[38;5;241m.\u001b[39mio\u001b[38;5;241m.\u001b[39mwavfile\u001b[38;5;241m.\u001b[39mwrite(f\u001b[38;5;241m.\u001b[39mreplace(\u001b[38;5;124m'\u001b[39m\u001b[38;5;124m.wav\u001b[39m\u001b[38;5;124m'\u001b[39m, \u001b[38;5;124m'\u001b[39m\u001b[38;5;124m_hat.wav\u001b[39m\u001b[38;5;124m'\u001b[39m), FS, np\u001b[38;5;241m.\u001b[39marray([l_hat\u001b[38;5;241m*\u001b[39mm, r_hat\u001b[38;5;241m*\u001b[39mm])\u001b[38;5;241m.\u001b[39mastype(np\u001b[38;5;241m.\u001b[39mint16)\u001b[38;5;241m.\u001b[39mT)\n\u001b[1;32m     14\u001b[0m \u001b[38;5;66;03m# print mse\u001b[39;00m\n\u001b[1;32m     15\u001b[0m \u001b[38;5;66;03m# P_IID /= np.linalg.norm(P_IID)\u001b[39;00m\n\u001b[1;32m     16\u001b[0m \u001b[38;5;66;03m# P_IC /= np.linalg.norm(P_IC)\u001b[39;00m\n\u001b[1;32m     17\u001b[0m \u001b[38;5;66;03m# P_IID_hat /= np.linalg.norm(P_IID_hat)\u001b[39;00m\n\u001b[1;32m     18\u001b[0m \u001b[38;5;66;03m# P_IC_hat /= np.linalg.norm(P_IC_hat)\u001b[39;00m\n",
      "File \u001b[0;32m~/mono-to-stereo/python/utils.py:156\u001b[0m, in \u001b[0;36mdecode\u001b[0;34m(stft, s, P_IID, P_IC)\u001b[0m\n\u001b[1;32m    154\u001b[0m c_2 \u001b[38;5;241m=\u001b[39m np\u001b[38;5;241m.\u001b[39msqrt(\u001b[38;5;241m2\u001b[39m \u001b[38;5;241m/\u001b[39m (\u001b[38;5;241m1\u001b[39m \u001b[38;5;241m+\u001b[39m c\u001b[38;5;241m*\u001b[39m\u001b[38;5;241m*\u001b[39m\u001b[38;5;241m2\u001b[39m))\n\u001b[1;32m    155\u001b[0m mu \u001b[38;5;241m=\u001b[39m \u001b[38;5;241m0.5\u001b[39m\u001b[38;5;241m*\u001b[39mnp\u001b[38;5;241m.\u001b[39marccos(P_IC)\n\u001b[0;32m--> 156\u001b[0m nu \u001b[38;5;241m=\u001b[39m \u001b[43mmu\u001b[49m\u001b[38;5;241;43m*\u001b[39;49m\u001b[43m(\u001b[49m\u001b[43mc_2\u001b[49m\u001b[43m \u001b[49m\u001b[38;5;241;43m-\u001b[39;49m\u001b[43m \u001b[49m\u001b[43mc_1\u001b[49m\u001b[43m)\u001b[49m \u001b[38;5;241m/\u001b[39m np\u001b[38;5;241m.\u001b[39msqrt(\u001b[38;5;241m2\u001b[39m)\n\u001b[1;32m    158\u001b[0m R_A \u001b[38;5;241m=\u001b[39m np\u001b[38;5;241m.\u001b[39mzeros((FREQ_BINS, \u001b[38;5;241m2\u001b[39m, \u001b[38;5;241m2\u001b[39m, N1), dtype\u001b[38;5;241m=\u001b[39m\u001b[38;5;28mcomplex\u001b[39m)\n\u001b[1;32m    159\u001b[0m R_A[:, \u001b[38;5;241m0\u001b[39m, \u001b[38;5;241m0\u001b[39m] \u001b[38;5;241m=\u001b[39m c_1\u001b[38;5;241m*\u001b[39mnp\u001b[38;5;241m.\u001b[39mcos(nu \u001b[38;5;241m+\u001b[39m mu)\n",
      "\u001b[0;31mValueError\u001b[0m: operands could not be broadcast together with shapes (0,1294) (34,1294) "
     ]
    }
   ],
   "source": [
    "for f in test:\n",
    "    print(f)\n",
    "    s, BS, P_IID, P_IC, P, m = utils.file_to_feature_label(f, stft)\n",
    "    P_hat = np.zeros_like(P)\n",
    "\n",
    "    feature = utils.complex_to_real(BS).T\n",
    "    # label = utils.complex_to_real(P).T\n",
    "    \n",
    "    P_hat = utils.real_to_complex(model.predict(np.array([feature]))[0].T)\n",
    "    P_IID_hat, P_IC_hat = utils.parameters_split(P_hat)\n",
    "    l_hat, r_hat = utils.decode(stft=stft, s=s, P_IID=P_IID_hat, P_IC=P_IC_hat)\n",
    "    scipy.io.wavfile.write(f.replace('.wav', '_hat.wav'), FS, np.array([l_hat*m, r_hat*m]).astype(np.int16).T)\n",
    "\n",
    "    # print mse\n",
    "    # P_IID /= np.linalg.norm(P_IID)\n",
    "    # P_IC /= np.linalg.norm(P_IC)\n",
    "    # P_IID_hat /= np.linalg.norm(P_IID_hat)\n",
    "    # P_IC_hat /= np.linalg.norm(P_IC_hat)\n",
    "\n",
    "    mse_IID = np.mean(np.abs(P_IID - P_IID_hat)**2)\n",
    "    mse_IC = np.mean(np.abs(P_IC - P_IC_hat)**2)\n",
    "    print(np.mean(np.abs(P_IID_hat)), np.mean(np.abs(P_IC_hat)), sep='\\t')\n",
    "    print(np.mean(np.abs(P_IID)), np.mean(np.abs(P_IC)), sep='\\t')\n",
    "    print(f'mse_IID={mse_IID:.2f}, mse_IC={mse_IC:.2f}', mse_IID/mse_IC)"
   ]
  },
  {
   "cell_type": "code",
   "execution_count": null,
   "metadata": {},
   "outputs": [],
   "source": [
    "X = 10**(np.abs(P_IID)/10)"
   ]
  },
  {
   "cell_type": "markdown",
   "metadata": {},
   "source": [
    "This creates the $\\mathbf{B}$ matrix which consists of 1s and 0s and sums the 2049 FFT bins into 34 frequency bands"
   ]
  },
  {
   "cell_type": "markdown",
   "metadata": {},
   "source": [
    "The cross spectrogram is defined as:\n",
    "$$\\rho(\\mathbf{X}, \\mathbf{Y}) = \\mathbf{B}(\\mathbf{X} \\times \\mathbf{Y}^*)$$\n",
    "where $\\times$ denotes element-wise multiplication, and $*$ denotes element-wise complex conjugation."
   ]
  },
  {
   "cell_type": "code",
   "execution_count": null,
   "metadata": {},
   "outputs": [],
   "source": [
    "from bokeh import palettes as pl\n",
    "from bokeh.models import LogColorMapper, ColorBar\n",
    "\n",
    "m = LogColorMapper(palette=pl.Inferno256, low=X.min(), high=X.max())\n",
    "\n",
    "p = figure(width=1500, height=700, title='Spectrogram', x_axis_label='Time (s)', y_axis_label='Frequency (kHz)')\n",
    "p.min_border=0\n",
    "\n",
    "p.image(image=[X], x=0, y=0, dw=X.shape[1]*int(4096*(1-0.75))/fs, dh=fs/2/1e3, color_mapper=m)\n",
    "p.add_layout(ColorBar(color_mapper=m), 'right')\n",
    "\n",
    "show(p)"
   ]
  }
 ],
 "metadata": {
  "kernelspec": {
   "display_name": "Python 3",
   "language": "python",
   "name": "python3"
  },
  "language_info": {
   "codemirror_mode": {
    "name": "ipython",
    "version": 3
   },
   "file_extension": ".py",
   "mimetype": "text/x-python",
   "name": "python",
   "nbconvert_exporter": "python",
   "pygments_lexer": "ipython3",
   "version": "3.10.12"
  }
 },
 "nbformat": 4,
 "nbformat_minor": 2
}
