{
 "cells": [
  {
   "cell_type": "code",
   "execution_count": null,
   "metadata": {},
   "outputs": [],
   "source": [
    "import numpy as np\n",
    "from numpy import pi, exp, log10\n",
    "from numpy.fft import fft, fftshift, fftfreq, ifft\n",
    "from bokeh.plotting import figure, show, output_notebook\n",
    "import bokeh.palettes as pl\n",
    "import panel as pn\n",
    "pn.extension()\n",
    "from glob import glob\n",
    "from tqdm import tqdm \n",
    "import os\n",
    "\n",
    "import utils\n",
    "\n",
    "import matplotlib.pyplot as plt\n",
    "import scipy"
   ]
  },
  {
   "cell_type": "code",
   "execution_count": null,
   "metadata": {},
   "outputs": [],
   "source": [
    "fs, x1 = scipy.io.wavfile.read('freebird.wav')\n",
    "x1 = np.array(x1, dtype=np.float32)\n",
    "fs, x1.shape\n",
    "\n",
    "FS = 44100\n",
    "stft = utils.get_stft(fs=FS)\n",
    "\n",
    "# cut down waveform size to two minutes centered around the start of the freebird solo\n",
    "start = 5*60 + 41 #+ 30\n",
    "end = 7*60 + 41 #- 30\n",
    "x = x1[start*fs:end*fs]\n",
    "\n",
    "l = x[:, 0]\n",
    "r = x[:, 1]\n",
    "scipy.io.wavfile.write('freebird_cut.wav', fs, np.array([l, r]).T.astype(np.int16))\n",
    "\n",
    "\n",
    "s = (l + r) / 2 # mono signal\n",
    "N = len(l)\n",
    "\n",
    "P_IID, P_IC = utils.encode(stft, l, r)\n",
    "y_mixed = utils.decode(stft, s, P_IID, P_IC)\n",
    "l1 = y_mixed.T[:, 0]\n",
    "r1 = y_mixed.T[:, 1]\n",
    "scipy.io.wavfile.write('freebird_decoded.wav', fs, y_mixed.T.astype(np.int16))"
   ]
  },
  {
   "cell_type": "code",
   "execution_count": null,
   "metadata": {},
   "outputs": [],
   "source": [
    "import ffmpeg\n",
    "\n",
    "files = glob('./data/**/**.mp3')\n",
    "\n",
    "# convert all to wav\n",
    "for f in tqdm(files):\n",
    "    out = f.replace('.mp3', '.wav')\n",
    "    ffmpeg.input(f).output(out).run(overwrite_output=True, quiet=True)"
   ]
  },
  {
   "cell_type": "code",
   "execution_count": null,
   "metadata": {},
   "outputs": [],
   "source": [
    "files = glob('./data/**/**.wav')\n",
    "\n",
    "# mark any file that won't load as .wav.bad\n",
    "for f in tqdm(files):\n",
    "    try:\n",
    "        fs, l, r = utils.load_wav(f)\n",
    "    except:\n",
    "        # print(f)\n",
    "        os.rename(f, f + '.bad')\n",
    "\n",
    "# reverse the above\n",
    "# for f in glob('./data/**/**.wav.bad'):\n",
    "#    os.rename(f, f.replace('.bad', ''))"
   ]
  },
  {
   "cell_type": "code",
   "execution_count": null,
   "metadata": {},
   "outputs": [],
   "source": [
    "files = glob('./data/**/**.wav')\n",
    "\n",
    "FS = 44100\n",
    "stft = utils.get_stft(fs=FS)\n",
    "\n",
    "# generate PS coding, then save as npz\n",
    "for f in tqdm(files):\n",
    "    fs, l, r = utils.load_wav(f)\n",
    "    N = len(l)\n",
    "    P_IID, P_IC = utils.encode(stft, l, r)\n",
    "    out = f + '_ps.npz'\n",
    "    np.savez_compressed(out, P_IID=P_IID, P_IC=P_IC)\n",
    "\n",
    "# reverse the above\n",
    "# for f in glob('./data/**/**.wav_ps.npz'):\n",
    "#    os.remove(f)"
   ]
  },
  {
   "cell_type": "code",
   "execution_count": null,
   "metadata": {},
   "outputs": [],
   "source": [
    "import os\n",
    "from glob import glob\n",
    "# delete all files with _hat.wav\n",
    "for f in glob('data/**/**_hat.wav'):\n",
    "    os.remove(f)\n",
    "\n",
    "FS = 44100\n",
    "stft = utils.get_stft(fs=FS)"
   ]
  },
  {
   "cell_type": "code",
   "execution_count": null,
   "metadata": {},
   "outputs": [],
   "source": [
    "n_train = 20\n",
    "n_test = 3\n",
    "n_frames = 20\n",
    "\n",
    "train = glob('data/**/**.wav')[:n_train]\n",
    "test = glob('data/**/**.wav')[n_train:n_train+n_test]\n",
    "len(train), len(test)"
   ]
  },
  {
   "cell_type": "code",
   "execution_count": null,
   "metadata": {},
   "outputs": [],
   "source": [
    "# train the model\n",
    "\n",
    "n_samples = 200\n",
    "features = []\n",
    "labels = []\n",
    "\n",
    "from sklearn.neighbors import KNeighborsRegressor\n",
    "knn = KNeighborsRegressor(n_neighbors=1)\n",
    "\n",
    "for f in tqdm(train):\n",
    "    if f.find('_hat.wav') > 0: # TODO: really need a more reliable way of doing this\n",
    "        continue\n",
    "   \n",
    "    s, BS, P_IID, P_IC, P, m = utils.file_to_feature_label(f, stft)\n",
    "\n",
    "    for i in range(n_samples):\n",
    "        # take a random set of frames from the spectrogram S\n",
    "        idx = np.random.randint(0, BS.shape[1] - n_frames)\n",
    "\n",
    "        feature = BS[:, idx:idx+n_frames]\n",
    "        feature = utils.complex_to_real(feature).flatten()\n",
    "        features.append(feature)\n",
    "        \n",
    "        # the label is the PS parameters of the last frame\n",
    "        label = P[:, idx+n_frames]\n",
    "        label = utils.complex_to_real(label)\n",
    "        labels.append(label)\n",
    "\n",
    "knn = KNeighborsRegressor(n_neighbors=1).fit(features, labels)\n",
    "knn"
   ]
  },
  {
   "cell_type": "code",
   "execution_count": null,
   "metadata": {},
   "outputs": [],
   "source": [
    "# test the model\n",
    "for f in test:\n",
    "    print(f)\n",
    "    s, BS, P_IID, P_IC, P, m = utils.file_to_feature_label(f, stft)\n",
    "    P_hat = np.zeros_like(P)\n",
    "\n",
    "    features = []\n",
    "    for i in range(BS.shape[1] - n_frames):\n",
    "        feature = BS[:, i:i+n_frames]\n",
    "        feature = utils.complex_to_real(feature).flatten()\n",
    "        features.append(feature)\n",
    "    \n",
    "    labels = knn.predict(features)\n",
    "    for i in range(len(labels)):\n",
    "        P_hat[:, i+n_frames] = utils.real_to_complex(labels[i])\n",
    "    \n",
    "    P_IID_hat, P_IC_hat = utils.parameters_split(P_hat)\n",
    "    l_hat, r_hat = utils.decode(stft=stft, s=s, P_IID=P_IID_hat, P_IC=P_IC_hat)\n",
    "    scipy.io.wavfile.write(f.replace('.wav', '_hat.wav'), FS, np.array([l_hat*m, r_hat*m]).astype(np.int16).T)\n",
    "\n",
    "    # print mse\n",
    "    # P_IID /= np.linalg.norm(P_IID)\n",
    "    # P_IC /= np.linalg.norm(P_IC)\n",
    "    # P_IID_hat /= np.linalg.norm(P_IID_hat)\n",
    "    # P_IC_hat /= np.linalg.norm(P_IC_hat)\n",
    "\n",
    "    mse_IID = np.mean(np.abs(P_IID - P_IID_hat)**2)\n",
    "    mse_IC = np.mean(np.abs(P_IC - P_IC_hat)**2)\n",
    "    print(f'mse_IID={mse_IID:.2f}, mse_IC={mse_IC:.2f}', mse_IID/mse_IC)"
   ]
  },
  {
   "cell_type": "code",
   "execution_count": null,
   "metadata": {},
   "outputs": [],
   "source": [
    "import os\n",
    "from glob import glob\n",
    "# delete all files with _hat.wav\n",
    "for f in glob('data/**/**_hat.wav'):\n",
    "    os.remove(f)\n",
    "\n",
    "FS = 44100\n",
    "stft = utils.get_stft(fs=FS)"
   ]
  },
  {
   "cell_type": "code",
   "execution_count": null,
   "metadata": {},
   "outputs": [],
   "source": [
    "n_train = 200\n",
    "n_test = 50\n",
    "\n",
    "files = glob('data/**/**.wav')\n",
    "train = files[:n_train]\n",
    "test = files[n_train:n_train+n_test]\n",
    "\n",
    "train_features = np.zeros((n_train, 1294, utils.FREQ_BINS*2))\n",
    "train_labels = np.zeros((n_train, 1294, utils.FREQ_BINS))\n",
    "\n",
    "test_features = np.zeros((n_test, 1294, utils.FREQ_BINS*2))\n",
    "test_labels = np.zeros((n_test, 1294, utils.FREQ_BINS))\n",
    "\n",
    "for i, f in tqdm(enumerate(train)):\n",
    "    s, BS, P_IID, P_IC, P, m = utils.file_to_feature_label(f, stft)\n",
    "    train_features[i] = utils.complex_to_real(BS).T\n",
    "    train_labels[i] = P_IC.real.T\n",
    "\n",
    "for i, f in tqdm(enumerate(test)):\n",
    "    s, BS, P_IID, P_IC, P, m = utils.file_to_feature_label(f, stft)\n",
    "    test_features[i] = utils.complex_to_real(BS).T\n",
    "    test_labels[i] = P_IC.real.T"
   ]
  },
  {
   "cell_type": "code",
   "execution_count": null,
   "metadata": {},
   "outputs": [],
   "source": [
    "from keras.models import Sequential\n",
    "from keras.layers import Dense, SimpleRNN, Input, LSTM, Conv1D\n",
    "\n",
    "model = Sequential()\n",
    "model.add(Input(shape=(None, utils.FREQ_BINS*2)))\n",
    "\n",
    "model.add(SimpleRNN(units=utils.FREQ_BINS, return_sequences=True)) #activation=activation[0]))\n",
    "model.add(SimpleRNN(units=utils.FREQ_BINS*2, return_sequences=True)) #activation=activation[0]))\n",
    "model.add(SimpleRNN(units=utils.FREQ_BINS*8, return_sequences=True)) #activation=activation[0]))\n",
    "model.add(SimpleRNN(units=utils.FREQ_BINS*32, return_sequences=True)) #activation=activation[0]))\n",
    "model.add(SimpleRNN(units=utils.FREQ_BINS*32, return_sequences=True)) #activation=activation[0]))\n",
    "model.add(SimpleRNN(units=utils.FREQ_BINS*8, return_sequences=True)) #activation=activation[0]))\n",
    "model.add(SimpleRNN(units=utils.FREQ_BINS*2, return_sequences=True)) #activation=activation[0]))\n",
    "model.add(SimpleRNN(units=utils.FREQ_BINS, return_sequences=True)) #activation=activation[0]))\n",
    "# model.add(LSTM(units=utils.FREQ_BINS*2, return_sequences=True)) #activation=activation[1]))\n",
    "model.compile(loss='mean_squared_error', optimizer='adam')\n",
    "\n",
    "model.summary()\n"
   ]
  },
  {
   "cell_type": "code",
   "execution_count": null,
   "metadata": {},
   "outputs": [],
   "source": [
    "model.fit(train_features, train_labels, epochs=10, batch_size=1)"
   ]
  },
  {
   "cell_type": "code",
   "execution_count": null,
   "metadata": {},
   "outputs": [],
   "source": [
    "# model.evaluate(train_features, train_labels, batch_size=1)\n",
    "# model.evaluate(test_features, test_labels, batch_size=1)\n",
    "print(np.abs(train_labels[0]).round(2)[:1])\n",
    "print(np.abs(model.predict(train_features[:1])[0]).round(2)[:1])"
   ]
  },
  {
   "cell_type": "code",
   "execution_count": null,
   "metadata": {},
   "outputs": [],
   "source": [
    "for f in test:\n",
    "    print(f)\n",
    "    s, BS, P_IID, P_IC, P, m = utils.file_to_feature_label(f, stft)\n",
    "    P_hat = np.zeros_like(P)\n",
    "\n",
    "    feature = utils.complex_to_real(BS).T\n",
    "    # label = utils.complex_to_real(P).T\n",
    "    \n",
    "    P_hat = utils.real_to_complex(model.predict(np.array([feature]))[0].T)\n",
    "    P_IID_hat, P_IC_hat = utils.parameters_split(P_hat)\n",
    "    l_hat, r_hat = utils.decode(stft=stft, s=s, P_IID=P_IID_hat, P_IC=P_IC_hat)\n",
    "    scipy.io.wavfile.write(f.replace('.wav', '_hat.wav'), FS, np.array([l_hat*m, r_hat*m]).astype(np.int16).T)\n",
    "\n",
    "    # print mse\n",
    "    # P_IID /= np.linalg.norm(P_IID)\n",
    "    # P_IC /= np.linalg.norm(P_IC)\n",
    "    # P_IID_hat /= np.linalg.norm(P_IID_hat)\n",
    "    # P_IC_hat /= np.linalg.norm(P_IC_hat)\n",
    "\n",
    "    mse_IID = np.mean(np.abs(P_IID - P_IID_hat)**2)\n",
    "    mse_IC = np.mean(np.abs(P_IC - P_IC_hat)**2)\n",
    "    print(np.mean(np.abs(P_IID_hat)), np.mean(np.abs(P_IC_hat)), sep='\\t')\n",
    "    print(np.mean(np.abs(P_IID)), np.mean(np.abs(P_IC)), sep='\\t')\n",
    "    print(f'mse_IID={mse_IID:.2f}, mse_IC={mse_IC:.2f}', mse_IID/mse_IC)"
   ]
  },
  {
   "cell_type": "code",
   "execution_count": null,
   "metadata": {},
   "outputs": [],
   "source": [
    "X = 10**(np.abs(P_IID)/10)"
   ]
  },
  {
   "cell_type": "markdown",
   "metadata": {},
   "source": [
    "This creates the $\\mathbf{B}$ matrix which consists of 1s and 0s and sums the 2049 FFT bins into 34 frequency bands"
   ]
  },
  {
   "cell_type": "markdown",
   "metadata": {},
   "source": [
    "The cross spectrogram is defined as:\n",
    "$$\\rho(\\mathbf{X}, \\mathbf{Y}) = \\mathbf{B}(\\mathbf{X} \\times \\mathbf{Y}^*)$$\n",
    "where $\\times$ denotes element-wise multiplication, and $*$ denotes element-wise complex conjugation."
   ]
  },
  {
   "cell_type": "code",
   "execution_count": null,
   "metadata": {},
   "outputs": [],
   "source": [
    "from bokeh import palettes as pl\n",
    "from bokeh.models import LogColorMapper, ColorBar\n",
    "\n",
    "m = LogColorMapper(palette=pl.Inferno256, low=X.min(), high=X.max())\n",
    "\n",
    "p = figure(width=1500, height=700, title='Spectrogram', x_axis_label='Time (s)', y_axis_label='Frequency (kHz)')\n",
    "p.min_border=0\n",
    "\n",
    "p.image(image=[X], x=0, y=0, dw=X.shape[1]*int(4096*(1-0.75))/fs, dh=fs/2/1e3, color_mapper=m)\n",
    "p.add_layout(ColorBar(color_mapper=m), 'right')\n",
    "\n",
    "show(p)"
   ]
  }
 ],
 "metadata": {
  "kernelspec": {
   "display_name": "Python 3",
   "language": "python",
   "name": "python3"
  },
  "language_info": {
   "codemirror_mode": {
    "name": "ipython",
    "version": 3
   },
   "file_extension": ".py",
   "mimetype": "text/x-python",
   "name": "python",
   "nbconvert_exporter": "python",
   "pygments_lexer": "ipython3",
   "version": "3.10.12"
  }
 },
 "nbformat": 4,
 "nbformat_minor": 2
}
