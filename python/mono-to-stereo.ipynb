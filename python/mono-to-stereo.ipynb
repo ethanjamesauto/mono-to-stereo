{
 "cells": [
  {
   "cell_type": "code",
   "execution_count": null,
   "metadata": {},
   "outputs": [],
   "source": [
    "import numpy as np\n",
    "from numpy import pi, exp, log10\n",
    "from numpy.fft import fft, fftshift, fftfreq, ifft\n",
    "from bokeh.plotting import figure, show, output_notebook\n",
    "import bokeh.palettes as pl\n",
    "import panel as pn\n",
    "pn.extension()\n",
    "\n",
    "import utils\n",
    "\n",
    "import matplotlib.pyplot as plt\n",
    "import scipy\n",
    "\n",
    "def labels(p, x='', y='', t=''):\n",
    "    p.xaxis.axis_label=x\n",
    "    p.yaxis.axis_label=y\n",
    "    p.title=t\n",
    "\n",
    "def fontsize(p):\n",
    "    p.xaxis.major_label_text_font_size = '12pt'\n",
    "    p.yaxis.major_label_text_font_size = '12pt'\n",
    "    p.xaxis.axis_label_text_font_size = '12pt'\n",
    "    p.yaxis.axis_label_text_font_size = '12pt'\n",
    "    p.xaxis.axis_label_text_font_style = 'normal'\n",
    "    p.yaxis.axis_label_text_font_style = 'normal'\n",
    "    p.title.text_font_size = '12pt'\n",
    "    p.toolbar.logo = None\n",
    "\n",
    "def ticks(p):\n",
    "    p.xaxis.ticker.num_minor_ticks = 10\n",
    "    p.yaxis.ticker.num_minor_ticks = 3\n",
    "\n",
    "def bplot(x):\n",
    "    p = figure(width=800, height=400)\n",
    "    p.line(np.arange(len(x)), x, line_width=2)\n",
    "    p.toolbar.logo = None\n",
    "    show(p)\n",
    "\n",
    "def bplot2(n, x):\n",
    "    p = figure(width=800, height=400)\n",
    "    p.line(n, x)\n",
    "    p.toolbar.logo = None\n",
    "    show(p)"
   ]
  },
  {
   "cell_type": "code",
   "execution_count": null,
   "metadata": {},
   "outputs": [],
   "source": [
    "fs, x1 = scipy.io.wavfile.read('freebird.wav')\n",
    "x1 = np.array(x1, dtype=np.float32)\n",
    "fs, x1.shape\n",
    "\n",
    "FS = 44100\n",
    "stft = utils.get_stft(fs=FS)\n",
    "\n",
    "# cut down waveform size to two minutes centered around the start of the freebird solo\n",
    "start = 5*60 + 41 #+ 30\n",
    "end = 7*60 + 41 #- 30\n",
    "x = x1[start*fs:end*fs]\n",
    "print(type(x[0][0]))\n",
    "\n",
    "l = x[:, 0]\n",
    "r = x[:, 1]\n",
    "scipy.io.wavfile.write('freebird_cut.wav', fs, np.array([l, r]).T.astype(np.int16))\n",
    "\n",
    "\n",
    "s = (l + r) / 2 # mono signal\n",
    "N = len(l)\n",
    "\n",
    "P_IID, P_IC = utils.encode(stft, l, r)\n",
    "y_mixed = utils.decode(stft, s, P_IID, P_IC)\n",
    "l1 = y_mixed.T[:, 0]\n",
    "r1 = y_mixed.T[:, 1]\n",
    "scipy.io.wavfile.write('freebird_decoded.wav', fs, y_mixed.T.astype(np.int16))"
   ]
  },
  {
   "cell_type": "code",
   "execution_count": null,
   "metadata": {},
   "outputs": [],
   "source": [
    "import ffmpeg\n",
    "from glob import glob\n",
    "\n",
    "files = glob('./data/**/**.mp3')\n",
    "\n",
    "# convert all to wav\n",
    "# for f in files:\n",
    "#     out = f.replace('.mp3', '.wav')\n",
    "#     ffmpeg.input(f).output(out).run()"
   ]
  },
  {
   "cell_type": "code",
   "execution_count": null,
   "metadata": {},
   "outputs": [],
   "source": [
    "FS = 44100\n",
    "stft = utils.get_stft(fs=FS)"
   ]
  },
  {
   "cell_type": "code",
   "execution_count": null,
   "metadata": {},
   "outputs": [],
   "source": [
    "from sklearn.neighbors import KNeighborsRegressor\n",
    "\n",
    "knn = KNeighborsRegressor(n_neighbors=1)"
   ]
  },
  {
   "cell_type": "code",
   "execution_count": null,
   "metadata": {},
   "outputs": [],
   "source": [
    "# train the model\n",
    "n_files = 60*3\n",
    "n_test = 5\n",
    "n_samples = 5\n",
    "\n",
    "n_frames = 20\n",
    "\n",
    "train = glob('data/**/**.wav')[:n_files]\n",
    "test = glob('data/**/**.wav')[n_files:n_files+n_test]\n",
    "\n",
    "features = []\n",
    "labels = []\n",
    "\n",
    "for f in glob('data/**/**.wav')[:n_files]:\n",
    "    fs, x = scipy.io.wavfile.read(f)\n",
    "    x = np.array(x, dtype=np.float32)\n",
    "    if fs != FS:\n",
    "        print('Error: wrong sampling rate')\n",
    "        continue\n",
    "    if f.find('_hat.wav') > 0:\n",
    "        continue\n",
    "    if x.ndim < 2:\n",
    "        print('Error: mono file')\n",
    "        continue\n",
    "\n",
    "    l = x[:, 0]\n",
    "    r = x[:, 1]\n",
    "    s = (l + r) / 2\n",
    "    BS = utils.b_matrix() @ utils.spectrogram(stft, s)\n",
    "\n",
    "    P_IID, P_IC = utils.encode(stft=stft, l=l, r=r)\n",
    "    P_IID = np.nan_to_num(P_IID)\n",
    "    P_IC = np.nan_to_num(P_IC)\n",
    "    P = utils.parameters_concat(P_IID, P_IC)\n",
    "\n",
    "\n",
    "    for i in range(n_samples):\n",
    "        # take a random set of frames from the spectrogram S\n",
    "        idx = np.random.randint(0, BS.shape[1] - n_frames)\n",
    "\n",
    "        feature = BS[:, idx:idx+n_frames]\n",
    "        feature = utils.complex_to_real(feature).flatten()\n",
    "        features.append(feature)\n",
    "        \n",
    "        # the label is the PS parameters of the last frame\n",
    "        label = P[:, idx+n_frames]\n",
    "        label = utils.complex_to_real(label)\n",
    "        labels.append(label)\n",
    "\n",
    "knn = KNeighborsRegressor(n_neighbors=1).fit(features, labels)\n",
    "knn"
   ]
  },
  {
   "cell_type": "code",
   "execution_count": null,
   "metadata": {},
   "outputs": [],
   "source": [
    "# test the model\n",
    "\n",
    "for f in test:\n",
    "    fs, x = scipy.io.wavfile.read(f)\n",
    "    if fs != FS:\n",
    "        print('Error: wrong sampling rate')\n",
    "        continue\n",
    "\n",
    "    l = x[:, 0]\n",
    "    r = x[:, 1]\n",
    "    s = (l + r) / 2\n",
    "    BS = utils.b_matrix() @ utils.spectrogram(stft, s)\n",
    "\n",
    "    P_IID, P_IC = utils.encode(stft=stft, l=l, r=r)\n",
    "    P = utils.parameters_concat(P_IID, P_IC)\n",
    "\n",
    "    P_hat = np.zeros_like(P)\n",
    "\n",
    "    features = []\n",
    "    for i in range(BS.shape[1] - n_frames):\n",
    "        feature = BS[:, i:i+n_frames]\n",
    "        feature = utils.complex_to_real(feature).flatten()\n",
    "        features.append(feature)\n",
    "    \n",
    "    labels = knn.predict(features)\n",
    "    for i in range(len(labels)):\n",
    "        P_hat[:, i+n_frames] = utils.real_to_complex(labels[i])\n",
    "    \n",
    "    P_IID_hat, P_IC_hat = utils.parameters_split(P_hat)\n",
    "    l_hat, r_hat = utils.decode(stft=stft, s=s, P_IID=P_IID_hat, P_IC=P_IC_hat)\n",
    "    scipy.io.wavfile.write(f.replace('.wav', '_hat.wav'), FS, np.array([l_hat, r_hat]).astype(np.int16).T)"
   ]
  },
  {
   "cell_type": "code",
   "execution_count": null,
   "metadata": {},
   "outputs": [],
   "source": [
    "X = 10**(np.abs(P_IID)/10)"
   ]
  },
  {
   "cell_type": "code",
   "execution_count": null,
   "metadata": {},
   "outputs": [],
   "source": [
    "import os\n",
    "from glob import glob\n",
    "# delete all files with _hat.wav\n",
    "for f in glob('data/**/**_hat.wav'):\n",
    "    os.remove(f)"
   ]
  },
  {
   "cell_type": "markdown",
   "metadata": {},
   "source": [
    "This creates the $\\mathbf{B}$ matrix which consists of 1s and 0s and sums the 2049 FFT bins into 34 frequency bands"
   ]
  },
  {
   "cell_type": "markdown",
   "metadata": {},
   "source": [
    "The cross spectrogram is defined as:\n",
    "$$\\rho(\\mathbf{X}, \\mathbf{Y}) = \\mathbf{B}(\\mathbf{X} \\times \\mathbf{Y}^*)$$\n",
    "where $\\times$ denotes element-wise multiplication, and $*$ denotes element-wise complex conjugation."
   ]
  },
  {
   "cell_type": "code",
   "execution_count": null,
   "metadata": {},
   "outputs": [],
   "source": [
    "from bokeh import palettes as pl\n",
    "from bokeh.models import LogColorMapper, ColorBar\n",
    "\n",
    "m = LogColorMapper(palette=pl.Inferno256, low=X.min(), high=X.max())\n",
    "\n",
    "p = figure(width=1500, height=700, title='Spectrogram', x_axis_label='Time (s)', y_axis_label='Frequency (kHz)')\n",
    "p.min_border=0\n",
    "\n",
    "p.image(image=[X], x=0, y=0, dw=X.shape[1]*int(4096*(1-0.75))/fs, dh=fs/2/1e3, color_mapper=m)\n",
    "p.add_layout(ColorBar(color_mapper=m), 'right')\n",
    "\n",
    "show(p)"
   ]
  }
 ],
 "metadata": {
  "kernelspec": {
   "display_name": "Python 3",
   "language": "python",
   "name": "python3"
  },
  "language_info": {
   "codemirror_mode": {
    "name": "ipython",
    "version": 3
   },
   "file_extension": ".py",
   "mimetype": "text/x-python",
   "name": "python",
   "nbconvert_exporter": "python",
   "pygments_lexer": "ipython3",
   "version": "3.12.7"
  }
 },
 "nbformat": 4,
 "nbformat_minor": 2
}
